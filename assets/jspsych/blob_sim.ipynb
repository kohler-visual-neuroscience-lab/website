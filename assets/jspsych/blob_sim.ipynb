{
 "cells": [
  {
   "cell_type": "code",
   "execution_count": 14,
   "metadata": {},
   "outputs": [],
   "source": [
    "import glob\n",
    "import json\n",
    "import os"
   ]
  },
  {
   "cell_type": "code",
   "execution_count": 74,
   "metadata": {},
   "outputs": [],
   "source": [
    "name_mapping = {}\n",
    "name_list = glob.glob(\"img/select_sym/*.png\")\n",
    "name_list.sort()\n",
    "for old_name in name_list:\n",
    "    new_name = old_name.replace('a_','_').replace('b_','_')\n",
    "    old_num = new_name.split('_')[2]\n",
    "    new_num = 1\n",
    "    renumbered = new_name.replace('a_','_').replace('b_','_').replace(old_num, str(new_num).zfill(3))\n",
    "    while renumbered in name_mapping.values():\n",
    "        new_num = new_num + 1\n",
    "        renumbered = new_name.replace(old_num, str(new_num).zfill(3))\n",
    "    name_mapping[old_name] = renumbered\n",
    "    os.rename(old_name, renumbered)\n",
    "with open('img/select_sym/sym_remapping.json', 'w') as outfile:\n",
    "    json.dump(name_mapping, outfile, ensure_ascii=False, separators=(',', ':'))"
   ]
  }
 ],
 "metadata": {
  "kernelspec": {
   "display_name": "Python 3",
   "language": "python",
   "name": "python3"
  },
  "language_info": {
   "codemirror_mode": {
    "name": "ipython",
    "version": 3
   },
   "file_extension": ".py",
   "mimetype": "text/x-python",
   "name": "python",
   "nbconvert_exporter": "python",
   "pygments_lexer": "ipython3",
   "version": "3.7.4"
  }
 },
 "nbformat": 4,
 "nbformat_minor": 2
}
